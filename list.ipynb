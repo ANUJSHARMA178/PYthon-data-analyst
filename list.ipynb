{
 "cells": [
  {
   "cell_type": "code",
   "execution_count": 3,
   "metadata": {},
   "outputs": [],
   "source": [
    "list1 = ['Akliesh','Ram','Jay','Anuj']\n",
    "list2 = [1,2,3,4,5,6,7,8]\n",
    "list3 = ['Ravi',55,78,77,56,\"B\",False,6,788]\n",
    "list4 = [[1,2,3],[5,6,8],[7,0]]"
   ]
  },
  {
   "cell_type": "code",
   "execution_count": 4,
   "metadata": {},
   "outputs": [],
   "source": [
    "x = [1,2,3]\n"
   ]
  },
  {
   "cell_type": "code",
   "execution_count": 5,
   "metadata": {},
   "outputs": [],
   "source": [
    "data = [ \n",
    "    'Warbreaker',\n",
    "    'Alexa',\n",
    "    'Goggle'\n",
    "]"
   ]
  },
  {
   "cell_type": "code",
   "execution_count": 7,
   "metadata": {},
   "outputs": [
    {
     "name": "stdout",
     "output_type": "stream",
     "text": [
      "Warbreaker\n",
      "Alexa\n",
      "Goggle\n"
     ]
    }
   ],
   "source": [
    "for item in data:\n",
    "      print(item)"
   ]
  },
  {
   "cell_type": "code",
   "execution_count": 8,
   "metadata": {},
   "outputs": [
    {
     "name": "stdout",
     "output_type": "stream",
     "text": [
      "Warbreaker\n"
     ]
    }
   ],
   "source": [
    "#indexed\n",
    "print(data[0])"
   ]
  },
  {
   "cell_type": "code",
   "execution_count": 9,
   "metadata": {},
   "outputs": [
    {
     "name": "stdout",
     "output_type": "stream",
     "text": [
      "Warbreaker\n"
     ]
    }
   ],
   "source": [
    "#slicing\n",
    "print(data[-3])"
   ]
  },
  {
   "cell_type": "code",
   "execution_count": 10,
   "metadata": {},
   "outputs": [
    {
     "name": "stdout",
     "output_type": "stream",
     "text": [
      "['Warbreaker', 'Alexa', 'Goggle']\n"
     ]
    }
   ],
   "source": [
    "print(data[::1])"
   ]
  },
  {
   "cell_type": "code",
   "execution_count": 13,
   "metadata": {},
   "outputs": [
    {
     "name": "stdout",
     "output_type": "stream",
     "text": [
      "['Alexa', 'Goggle', 'Warbreaker']\n"
     ]
    }
   ],
   "source": [
    "data.sort()\n",
    "print(data)"
   ]
  },
  {
   "cell_type": "code",
   "execution_count": 14,
   "metadata": {},
   "outputs": [
    {
     "name": "stdout",
     "output_type": "stream",
     "text": [
      "['Alexa', 'Goggle', 'Warbreaker']\n"
     ]
    }
   ],
   "source": [
    "data.reverse\n",
    "print(data)"
   ]
  },
  {
   "cell_type": "code",
   "execution_count": 16,
   "metadata": {},
   "outputs": [
    {
     "data": {
      "text/plain": [
       "'Warbreaker'"
      ]
     },
     "execution_count": 16,
     "metadata": {},
     "output_type": "execute_result"
    }
   ],
   "source": [
    "data.index\n",
    "data[2]"
   ]
  },
  {
   "cell_type": "code",
   "execution_count": 18,
   "metadata": {},
   "outputs": [],
   "source": [
    "fruits = []\n",
    "fruits.append('Apple')\n",
    "fruits.append('Banana')\n",
    "fruits.append('Cherry')\n",
    "fruits.append('Drangon fruits')\n",
    "fruits.append('Mango')\n"
   ]
  },
  {
   "cell_type": "code",
   "execution_count": 20,
   "metadata": {},
   "outputs": [
    {
     "name": "stdout",
     "output_type": "stream",
     "text": [
      "['Apple', 'Papaya', 'Banana', 'Cherry', 'Drangon fruits', 'Mango']\n"
     ]
    }
   ],
   "source": [
    "fruits.insert(1,\"Papaya\")\n",
    "print (fruits)"
   ]
  },
  {
   "cell_type": "code",
   "execution_count": 22,
   "metadata": {},
   "outputs": [
    {
     "data": {
      "text/plain": [
       "['Apple',\n",
       " 'Papaya',\n",
       " 'Banana',\n",
       " 'Cherry',\n",
       " 'Drangon fruits',\n",
       " 'Mango',\n",
       " 'Almond',\n",
       " 'Cashew',\n",
       " 'Kismis',\n",
       " 'Almond',\n",
       " 'Cashew',\n",
       " 'Kismis']"
      ]
     },
     "execution_count": 22,
     "metadata": {},
     "output_type": "execute_result"
    }
   ],
   "source": [
    "dry_fruits= ['Almond','Cashew','Kismis']\n",
    "fruits.extend(dry_fruits)\n",
    "fruits\n"
   ]
  },
  {
   "cell_type": "code",
   "execution_count": 23,
   "metadata": {},
   "outputs": [
    {
     "data": {
      "text/plain": [
       "['Papaya', 'Banana', 'Cherry', 'Drangon fruits', 'Mango']"
      ]
     },
     "execution_count": 23,
     "metadata": {},
     "output_type": "execute_result"
    }
   ],
   "source": [
    "fruits= ['Apple', 'Papaya', 'Banana', 'Cherry', 'Drangon fruits', 'Mango']\n",
    "fruits.remove('Apple')\n",
    "fruits"
   ]
  },
  {
   "cell_type": "code",
   "execution_count": 24,
   "metadata": {},
   "outputs": [
    {
     "name": "stdout",
     "output_type": "stream",
     "text": [
      "Mango\n"
     ]
    }
   ],
   "source": [
    "fruits= ['Apple', 'Papaya', 'Banana', 'Cherry', 'Drangon fruits', 'Mango']\n",
    "v = fruits.pop()\n",
    "print(v)"
   ]
  },
  {
   "cell_type": "code",
   "execution_count": 25,
   "metadata": {},
   "outputs": [
    {
     "name": "stdout",
     "output_type": "stream",
     "text": [
      "Banana\n"
     ]
    }
   ],
   "source": [
    "  "
   ]
  },
  {
   "cell_type": "code",
   "execution_count": null,
   "metadata": {},
   "outputs": [],
   "source": []
  }
 ],
 "metadata": {
  "kernelspec": {
   "display_name": "base",
   "language": "python",
   "name": "python3"
  },
  "language_info": {
   "codemirror_mode": {
    "name": "ipython",
    "version": 3
   },
   "file_extension": ".py",
   "mimetype": "text/x-python",
   "name": "python",
   "nbconvert_exporter": "python",
   "pygments_lexer": "ipython3",
   "version": "3.11.5"
  }
 },
 "nbformat": 4,
 "nbformat_minor": 2
}
