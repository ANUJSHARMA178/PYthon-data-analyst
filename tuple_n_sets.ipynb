{
 "cells": [
  {
   "cell_type": "code",
   "execution_count": 3,
   "metadata": {},
   "outputs": [
    {
     "name": "stdout",
     "output_type": "stream",
     "text": [
      "(1, 2, 3)\n",
      "(4, 4, 4)\n"
     ]
    }
   ],
   "source": [
    "x = (1,2,3)\n",
    "print(x)\n",
    "\n",
    "y = (4,4,4)\n",
    "print(y)"
   ]
  },
  {
   "cell_type": "code",
   "execution_count": 5,
   "metadata": {},
   "outputs": [
    {
     "name": "stdout",
     "output_type": "stream",
     "text": [
      "1\n",
      "2\n",
      "3\n"
     ]
    }
   ],
   "source": [
    "for i in x:\n",
    "    print(i)"
   ]
  },
  {
   "cell_type": "code",
   "execution_count": 6,
   "metadata": {},
   "outputs": [
    {
     "name": "stdout",
     "output_type": "stream",
     "text": [
      "1\n",
      "2\n"
     ]
    }
   ],
   "source": [
    "print(x[0])\n",
    "print(x[-2])"
   ]
  },
  {
   "cell_type": "code",
   "execution_count": 7,
   "metadata": {},
   "outputs": [
    {
     "name": "stdout",
     "output_type": "stream",
     "text": [
      "(1, 2, 3, 4, 5, 6, 7)\n",
      "(1, 2, 3, 4)\n",
      "(1, 2, 3)\n"
     ]
    }
   ],
   "source": [
    "a=  1,2,3,4,5,6,7\n",
    "print(a)\n",
    "print(a[:4])\n",
    "print(a[:3])"
   ]
  },
  {
   "cell_type": "code",
   "execution_count": 12,
   "metadata": {},
   "outputs": [
    {
     "name": "stdout",
     "output_type": "stream",
     "text": [
      "1\n",
      "1\n",
      "1\n",
      "3\n"
     ]
    }
   ],
   "source": [
    "print(a.count(2))\n",
    "print(a.count(3))\n",
    "\n",
    "print(a.index(2))\n",
    "print(a.index(4))"
   ]
  },
  {
   "cell_type": "markdown",
   "metadata": {},
   "source": [
    "#sets\n"
   ]
  },
  {
   "cell_type": "code",
   "execution_count": 15,
   "metadata": {},
   "outputs": [
    {
     "name": "stdout",
     "output_type": "stream",
     "text": [
      "{1, 2, 3, 5, 6, 7}\n",
      "{'apple', 'banana', 'papaya'}\n",
      "{'kiwi', 'apple', 'banana', 'papaya'}\n",
      "{'kiwi', 'banana', 'papaya'}\n"
     ]
    }
   ],
   "source": [
    "a = {1,2,3,5,6,7}\n",
    "print(a)\n",
    "b = {'apple','banana','papaya'}\n",
    "print(b)\n",
    "\n",
    "b.add('kiwi')\n",
    "print(b)\n",
    "\n",
    "b.discard('apple')\n",
    "print(b)\n"
   ]
  },
  {
   "cell_type": "code",
   "execution_count": 16,
   "metadata": {},
   "outputs": [
    {
     "name": "stdout",
     "output_type": "stream",
     "text": [
      "{1, 3, 4, 5, 6, 55, 13.45}\n",
      "{1, 3, 4, 5, 6, 55, 13.45}\n",
      "{5}\n",
      "{5}\n",
      "{1, 3, 4, 6}\n",
      "{1, 3, 4, 6}\n",
      "{13.45, 55}\n"
     ]
    }
   ],
   "source": [
    "x = {1,3,4,5,6}\n",
    "y  = {13.45,55,5,55}\n",
    "\n",
    "#union\n",
    "print(x|y)\n",
    "print(x.union(y))\n",
    "\n",
    "#intersection\n",
    "print(x&y)\n",
    "print(x.intersection(y))\n",
    "\n",
    "#difference\n",
    "print(x-y)\n",
    "print(x.difference(y))\n",
    "print(y-x)"
   ]
  },
  {
   "cell_type": "code",
   "execution_count": 17,
   "metadata": {},
   "outputs": [
    {
     "name": "stdout",
     "output_type": "stream",
     "text": [
      "{1, 3, 4, 6, 13.45, 55}\n",
      "{1, 3, 4, 6, 13.45, 55}\n"
     ]
    }
   ],
   "source": [
    "#symmetric difference\n",
    "\n",
    "print(x^y)\n",
    "print(x.symmetric_difference(y))"
   ]
  },
  {
   "cell_type": "code",
   "execution_count": 18,
   "metadata": {},
   "outputs": [
    {
     "name": "stdout",
     "output_type": "stream",
     "text": [
      "[1, 2, 3, 4, 5, 7, 8] <= list\n",
      "[1, 2, 3, 4, 5, 7, 8] <= set\n",
      "[1, 2, 3, 4, 5, 7, 8] <= tuple\n",
      "[1, 2, 3, 4, 5, 7, 8] <= list\n"
     ]
    }
   ],
   "source": [
    "x = [1,2,3,4,5,7,8]\n",
    "print(x , \"<= list\")\n",
    "xs = set(x)\n",
    "print(x , \"<= set\")\n",
    "xs = tuple(xs)\n",
    "print(x , \"<= tuple\")\n",
    "xs = list(xs)\n",
    "print(x , \"<= list\")\n"
   ]
  },
  {
   "cell_type": "code",
   "execution_count": null,
   "metadata": {},
   "outputs": [],
   "source": []
  }
 ],
 "metadata": {
  "kernelspec": {
   "display_name": "base",
   "language": "python",
   "name": "python3"
  },
  "language_info": {
   "codemirror_mode": {
    "name": "ipython",
    "version": 3
   },
   "file_extension": ".py",
   "mimetype": "text/x-python",
   "name": "python",
   "nbconvert_exporter": "python",
   "pygments_lexer": "ipython3",
   "version": "3.11.5"
  }
 },
 "nbformat": 4,
 "nbformat_minor": 2
}
