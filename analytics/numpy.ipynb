{
 "cells": [
  {
   "cell_type": "code",
   "execution_count": 1,
   "metadata": {},
   "outputs": [],
   "source": [
    "import numpy as np "
   ]
  },
  {
   "cell_type": "markdown",
   "metadata": {},
   "source": [
    "create"
   ]
  },
  {
   "cell_type": "code",
   "execution_count": 2,
   "metadata": {},
   "outputs": [
    {
     "name": "stdout",
     "output_type": "stream",
     "text": [
      "[1 2 3 4 5]\n",
      "<class 'numpy.ndarray'>\n"
     ]
    }
   ],
   "source": [
    "x1 = np.array([1,2,3,4,5])\n",
    "print(x1)\n",
    "print(type(x1))"
   ]
  },
  {
   "cell_type": "code",
   "execution_count": 3,
   "metadata": {},
   "outputs": [
    {
     "name": "stdout",
     "output_type": "stream",
     "text": [
      "[[2 3 4]\n",
      " [5 6 7]]\n",
      "<class 'numpy.ndarray'>\n"
     ]
    }
   ],
   "source": [
    "x2 = np.array([\n",
    "    [2,3,4],\n",
    "    [5,6,7]\n",
    "])\n",
    "print(x2)\n",
    "print(type(x2))\n",
    "\n"
   ]
  },
  {
   "cell_type": "code",
   "execution_count": 4,
   "metadata": {},
   "outputs": [
    {
     "name": "stdout",
     "output_type": "stream",
     "text": [
      "[10.  10.5 11.  11.5 12.  12.5 13.  13.5 14.  14.5 15.  15.5 16.  16.5\n",
      " 17.  17.5 18.  18.5 19.  19.5 20.  20.5 21.  21.5 22.  22.5 23.  23.5\n",
      " 24.  24.5 25.  25.5 26.  26.5 27.  27.5 28.  28.5 29.  29.5 30.  30.5\n",
      " 31.  31.5 32.  32.5 33.  33.5 34.  34.5 35.  35.5 36.  36.5 37.  37.5\n",
      " 38.  38.5 39.  39.5 40.  40.5 41.  41.5 42.  42.5 43.  43.5 44.  44.5\n",
      " 45.  45.5 46.  46.5 47.  47.5 48.  48.5 49.  49.5 50.  50.5]\n",
      "(82,)\n"
     ]
    }
   ],
   "source": [
    "a = np.arange(10,51,0.5)\n",
    "print(a)\n",
    "print(a.shape)"
   ]
  },
  {
   "cell_type": "code",
   "execution_count": 5,
   "metadata": {},
   "outputs": [
    {
     "name": "stdout",
     "output_type": "stream",
     "text": [
      "[10.         10.1010101  10.2020202  10.3030303  10.4040404  10.50505051\n",
      " 10.60606061 10.70707071 10.80808081 10.90909091 11.01010101 11.11111111\n",
      " 11.21212121 11.31313131 11.41414141 11.51515152 11.61616162 11.71717172\n",
      " 11.81818182 11.91919192 12.02020202 12.12121212 12.22222222 12.32323232\n",
      " 12.42424242 12.52525253 12.62626263 12.72727273 12.82828283 12.92929293\n",
      " 13.03030303 13.13131313 13.23232323 13.33333333 13.43434343 13.53535354\n",
      " 13.63636364 13.73737374 13.83838384 13.93939394 14.04040404 14.14141414\n",
      " 14.24242424 14.34343434 14.44444444 14.54545455 14.64646465 14.74747475\n",
      " 14.84848485 14.94949495 15.05050505 15.15151515 15.25252525 15.35353535\n",
      " 15.45454545 15.55555556 15.65656566 15.75757576 15.85858586 15.95959596\n",
      " 16.06060606 16.16161616 16.26262626 16.36363636 16.46464646 16.56565657\n",
      " 16.66666667 16.76767677 16.86868687 16.96969697 17.07070707 17.17171717\n",
      " 17.27272727 17.37373737 17.47474747 17.57575758 17.67676768 17.77777778\n",
      " 17.87878788 17.97979798 18.08080808 18.18181818 18.28282828 18.38383838\n",
      " 18.48484848 18.58585859 18.68686869 18.78787879 18.88888889 18.98989899\n",
      " 19.09090909 19.19191919 19.29292929 19.39393939 19.49494949 19.5959596\n",
      " 19.6969697  19.7979798  19.8989899  20.        ]\n"
     ]
    }
   ],
   "source": [
    "b = np.linspace(10,20,100)\n",
    "print(b)"
   ]
  },
  {
   "cell_type": "code",
   "execution_count": 6,
   "metadata": {},
   "outputs": [
    {
     "name": "stdout",
     "output_type": "stream",
     "text": [
      "[[-23 -48  41 -96  -2]\n",
      " [ 94  -2 -12 -70 -95]\n",
      " [ 25 -56  13 -20  36]\n",
      " [-95  17  54 -32 -44]\n",
      " [-95  69  67  45  61]]\n"
     ]
    }
   ],
   "source": [
    "c = np.random.randint(-100,100,(5,5))\n",
    "print(c)"
   ]
  },
  {
   "cell_type": "markdown",
   "metadata": {},
   "source": [
    "#properties\n"
   ]
  },
  {
   "cell_type": "code",
   "execution_count": 10,
   "metadata": {},
   "outputs": [
    {
     "name": "stdout",
     "output_type": "stream",
     "text": [
      "[10.  10.5 11.  11.5 12.  12.5 13.  13.5 14.  14.5 15.  15.5 16.  16.5\n",
      " 17.  17.5 18.  18.5 19.  19.5 20.  20.5 21.  21.5 22.  22.5 23.  23.5\n",
      " 24.  24.5 25.  25.5 26.  26.5 27.  27.5 28.  28.5 29.  29.5 30.  30.5\n",
      " 31.  31.5 32.  32.5 33.  33.5 34.  34.5 35.  35.5 36.  36.5 37.  37.5\n",
      " 38.  38.5 39.  39.5 40.  40.5 41.  41.5 42.  42.5 43.  43.5 44.  44.5\n",
      " 45.  45.5 46.  46.5 47.  47.5 48.  48.5 49.  49.5 50.  50.5]\n",
      "size\n",
      "82\n",
      "shape\n"
     ]
    }
   ],
   "source": [
    "print(a)\n",
    "print('size')\n",
    "print(a.size)\n",
    "print('shape')\n",
    "\n",
    "\n"
   ]
  },
  {
   "cell_type": "code",
   "execution_count": 12,
   "metadata": {},
   "outputs": [
    {
     "name": "stdout",
     "output_type": "stream",
     "text": [
      "[[46 23 77 41 98]\n",
      " [60 47 12 83 68]\n",
      " [41 29 90 53 91]\n",
      " [50 58 94 25 48]]\n",
      "[[46 23 77 41]\n",
      " [98 60 47 12]\n",
      " [83 68 41 29]\n",
      " [90 53 91 50]\n",
      " [58 94 25 48]]\n",
      "[[46 23 77 41 98 60 47 12 83 68 41 29 90 53 91 50 58 94 25 48]]\n",
      "[[46]\n",
      " [23]\n",
      " [77]\n",
      " [41]\n",
      " [98]\n",
      " [60]\n",
      " [47]\n",
      " [12]\n",
      " [83]\n",
      " [68]\n",
      " [41]\n",
      " [29]\n",
      " [90]\n",
      " [53]\n",
      " [91]\n",
      " [50]\n",
      " [58]\n",
      " [94]\n",
      " [25]\n",
      " [48]]\n",
      "[[46 23 77 41 98 60 47 12 83 68]\n",
      " [41 29 90 53 91 50 58 94 25 48]]\n",
      "[[46 23]\n",
      " [77 41]\n",
      " [98 60]\n",
      " [47 12]\n",
      " [83 68]\n",
      " [41 29]\n",
      " [90 53]\n",
      " [91 50]\n",
      " [58 94]\n",
      " [25 48]]\n"
     ]
    }
   ],
   "source": [
    "x = np.random.randint(10,99,(4,5))\n",
    "print(x)\n",
    "print(x.reshape(5,4))\n",
    "print(x.reshape(1,20))\n",
    "print(x.reshape(20,1))\n",
    "print(x.reshape(2,10))\n",
    "print(x.reshape(10,2))"
   ]
  },
  {
   "cell_type": "code",
   "execution_count": 13,
   "metadata": {},
   "outputs": [
    {
     "name": "stdout",
     "output_type": "stream",
     "text": [
      "[46 23 77 41 98 60 47 12 83 68 41 29 90 53 91 50 58 94 25 48]\n"
     ]
    }
   ],
   "source": [
    "print(x.flatten())"
   ]
  },
  {
   "cell_type": "code",
   "execution_count": 14,
   "metadata": {},
   "outputs": [
    {
     "name": "stdout",
     "output_type": "stream",
     "text": [
      "x:\n",
      " [[46 23 77 41 98]\n",
      " [60 47 12 83 68]\n",
      " [41 29 90 53 91]\n",
      " [50 58 94 25 48]]\n"
     ]
    }
   ],
   "source": [
    "y = np.random.randint(10,99,(5,2))\n",
    "print(\"x:\\n\", x)"
   ]
  },
  {
   "cell_type": "code",
   "execution_count": 15,
   "metadata": {},
   "outputs": [
    {
     "data": {
      "text/plain": [
       "array([[65, 50, 15, 23, 60],\n",
       "       [31, 13, 10, 94, 84]])"
      ]
     },
     "execution_count": 15,
     "metadata": {},
     "output_type": "execute_result"
    }
   ],
   "source": [
    "y.T"
   ]
  },
  {
   "cell_type": "markdown",
   "metadata": {},
   "source": [
    "maths and stats"
   ]
  },
  {
   "cell_type": "code",
   "execution_count": 16,
   "metadata": {},
   "outputs": [
    {
     "name": "stdout",
     "output_type": "stream",
     "text": [
      "[[2 4]\n",
      " [7 7]]\n",
      "[[ 0  0]\n",
      " [-1  1]]\n",
      "[[1.         1.        ]\n",
      " [0.75       1.33333333]]\n",
      "[[ 1  4]\n",
      " [12 12]]\n",
      "[[ 9  8]\n",
      " [19 18]]\n"
     ]
    }
   ],
   "source": [
    "a = np.array([\n",
    "    [1, 2],\n",
    "    [3, 4]\n",
    "\n",
    "])\n",
    "b = np.array([\n",
    "    [1,2],\n",
    "    [4,3]\n",
    "])\n",
    "\n",
    "  #addition \n",
    "print(a+b)\n",
    "#subtarction\n",
    "print(a-b)\n",
    "#divison\n",
    "print(a/b)\n",
    "#multiplication\n",
    "print(a*b)\n",
    "# do not product\n",
    "print(a @ b)\n",
    "\n",
    "\n",
    "\n"
   ]
  },
  {
   "cell_type": "code",
   "execution_count": 18,
   "metadata": {},
   "outputs": [
    {
     "name": "stdout",
     "output_type": "stream",
     "text": [
      "[[65 31]\n",
      " [50 13]\n",
      " [15 10]\n",
      " [23 94]\n",
      " [60 84]]\n",
      "445\n",
      "[213 232]\n",
      "[ 96  63  25 117 144]\n",
      "94 <built-in method min of numpy.ndarray object at 0x00000192A5813C30>\n",
      "7 5\n"
     ]
    }
   ],
   "source": [
    "print(y)\n",
    "print(y.sum())\n",
    "print(y.sum(axis=0))\n",
    "print(y.sum(axis=1))\n",
    "\n",
    "#max  and min \n",
    "print(y.max(),y.min)\n",
    "\n",
    "print(y.argmax(),y.argmin())\n",
    "\n"
   ]
  },
  {
   "cell_type": "code",
   "execution_count": 19,
   "metadata": {},
   "outputs": [
    {
     "name": "stderr",
     "output_type": "stream",
     "text": [
      "<>:5: SyntaxWarning: 'int' object is not callable; perhaps you missed a comma?\n",
      "<>:5: SyntaxWarning: 'int' object is not callable; perhaps you missed a comma?\n",
      "C:\\Users\\anujs\\AppData\\Local\\Temp\\ipykernel_11252\\805902236.py:5: SyntaxWarning: 'int' object is not callable; perhaps you missed a comma?\n",
      "  x= np.random.randint(10,100(10,10))\n"
     ]
    },
    {
     "ename": "TypeError",
     "evalue": "'int' object is not callable",
     "output_type": "error",
     "traceback": [
      "\u001b[1;31m---------------------------------------------------------------------------\u001b[0m",
      "\u001b[1;31mTypeError\u001b[0m                                 Traceback (most recent call last)",
      "Cell \u001b[1;32mIn[19], line 5\u001b[0m\n\u001b[0;32m      1\u001b[0m \u001b[38;5;66;03m#slicing\u001b[39;00m\n\u001b[0;32m      2\u001b[0m \u001b[38;5;66;03m# -1D array\u001b[39;00m\n\u001b[0;32m      3\u001b[0m \u001b[38;5;66;03m# x[start:stop:step]\u001b[39;00m\n\u001b[1;32m----> 5\u001b[0m x\u001b[38;5;241m=\u001b[39m np\u001b[38;5;241m.\u001b[39mrandom\u001b[38;5;241m.\u001b[39mrandint(\u001b[38;5;241m10\u001b[39m,\u001b[38;5;241m100\u001b[39m(\u001b[38;5;241m10\u001b[39m,\u001b[38;5;241m10\u001b[39m))\n\u001b[0;32m      6\u001b[0m \u001b[38;5;28mprint\u001b[39m(x)\n",
      "\u001b[1;31mTypeError\u001b[0m: 'int' object is not callable"
     ]
    }
   ],
   "source": [
    "#slicing\n",
    "# -1D array\n",
    "# x[start:stop:step]\n"
   ]
  },
  {
   "cell_type": "code",
   "execution_count": 21,
   "metadata": {},
   "outputs": [
    {
     "name": "stdout",
     "output_type": "stream",
     "text": [
      "[[84 84 97 95 89 89 27 21 14 16]\n",
      " [28 94 56 89 60 33 97 43 90 45]\n",
      " [46 22 45 17 68 84 54 13 76 67]\n",
      " [22 97 26 26 36 96 70 65 20 95]\n",
      " [92 66 33 61 82 32 80 45 30 56]\n",
      " [72 31 88 38 43 86 53 80 19 43]\n",
      " [27 69 67 10 83 98 79 32 87 50]\n",
      " [39 19 16 71 97 14 88 48 77 38]\n",
      " [25 36 49 95 15 66 37 60 77 39]\n",
      " [64 85 92 31 58 95 27 19 94 86]]\n"
     ]
    }
   ],
   "source": [
    "x= np.random.randint(10,100,(10,10))\n",
    "print(x)"
   ]
  },
  {
   "cell_type": "code",
   "execution_count": 34,
   "metadata": {},
   "outputs": [
    {
     "name": "stdout",
     "output_type": "stream",
     "text": [
      "86\n",
      "[84 84 97 95 89 89 27 21 14 16]\n",
      "[64 85 92 31 58 95 27 19 94 86]\n",
      "[16 45 67 95 56 43 50 38 39 86]\n",
      "[84 28 46 22 92 72 27 39 25 64]\n",
      "[31 69 19 36 85]\n",
      "[84 94 22 97 66 31 69 19 36 85]\n",
      "[[84 84 97 95 89 89 27 21 14 16]\n",
      " [28 94 56 89 60 33 97 43 90 45]\n",
      " [46 22 45 17 68 84 54 13 76 67]\n",
      " [22 97 26 26 36 96 70 65 20 95]\n",
      " [92 66 33 61 82 32 80 45 30 56]\n",
      " [72 31 88 38 43 86 53 80 19 43]\n",
      " [27 69 67 10 83 98 79 32 87 50]]\n"
     ]
    }
   ],
   "source": [
    "print(x[-1,-1]) #last elment\n",
    "\n",
    "print(x[0]) #first row\n",
    "print(x[-1]) #last row\n",
    "\n",
    "print(x[:, -1]) #last column\n",
    "print(x[:, 0]) # first column\n",
    "\n",
    "print(x[-5:,1]) # first 5 rows of the  second column\n",
    "print(x[:,1]) # first 1 column\n",
    "print(x[:-3]) # last 3 column\n",
    "\n"
   ]
  },
  {
   "cell_type": "code",
   "execution_count": 35,
   "metadata": {},
   "outputs": [
    {
     "name": "stdout",
     "output_type": "stream",
     "text": [
      "(array([2, 3], dtype=int64), array([1, 0], dtype=int64))\n"
     ]
    }
   ],
   "source": [
    "print(np.where(x==22))\n"
   ]
  },
  {
   "cell_type": "code",
   "execution_count": 36,
   "metadata": {},
   "outputs": [
    {
     "name": "stdout",
     "output_type": "stream",
     "text": [
      "0\n"
     ]
    }
   ],
   "source": [
    "print (np.count_nonzero(x==11))  # count"
   ]
  },
  {
   "cell_type": "code",
   "execution_count": null,
   "metadata": {},
   "outputs": [],
   "source": []
  }
 ],
 "metadata": {
  "kernelspec": {
   "display_name": "base",
   "language": "python",
   "name": "python3"
  },
  "language_info": {
   "codemirror_mode": {
    "name": "ipython",
    "version": 3
   },
   "file_extension": ".py",
   "mimetype": "text/x-python",
   "name": "python",
   "nbconvert_exporter": "python",
   "pygments_lexer": "ipython3",
   "version": "3.11.5"
  }
 },
 "nbformat": 4,
 "nbformat_minor": 2
}
