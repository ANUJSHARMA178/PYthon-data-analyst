{
 "cells": [
  {
   "cell_type": "code",
   "execution_count": 9,
   "metadata": {},
   "outputs": [
    {
     "name": "stdout",
     "output_type": "stream",
     "text": [
      "Anuj\n",
      "23\n",
      "24\n"
     ]
    }
   ],
   "source": [
    "my_dict  = {'name': 'Anuj', 'Age': '23'}\n",
    "print(my_dict.get('name')) \n",
    "print(my_dict.get('Age')) \n",
    "my_dict['Age'] = 24\n",
    "print(my_dict.get('Age')) \n",
    "\n"
   ]
  },
  {
   "cell_type": "code",
   "execution_count": 15,
   "metadata": {},
   "outputs": [
    {
     "name": "stdout",
     "output_type": "stream",
     "text": [
      "4\n",
      "(3, 9)\n"
     ]
    }
   ],
   "source": [
    "squares = {1:1,2:4,3:9}\n",
    "print(squares.pop(2))\n",
    "print(squares.popitem())\n",
    "squares.clear()"
   ]
  },
  {
   "cell_type": "code",
   "execution_count": null,
   "metadata": {},
   "outputs": [],
   "source": []
  }
 ],
 "metadata": {
  "kernelspec": {
   "display_name": "base",
   "language": "python",
   "name": "python3"
  },
  "language_info": {
   "codemirror_mode": {
    "name": "ipython",
    "version": 3
   },
   "file_extension": ".py",
   "mimetype": "text/x-python",
   "name": "python",
   "nbconvert_exporter": "python",
   "pygments_lexer": "ipython3",
   "version": "3.11.5"
  }
 },
 "nbformat": 4,
 "nbformat_minor": 2
}
