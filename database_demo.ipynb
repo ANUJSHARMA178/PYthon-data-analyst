{
 "cells": [
  {
   "cell_type": "code",
   "execution_count": 1,
   "metadata": {},
   "outputs": [],
   "source": [
    "from database import User ,Message \n",
    "from database import get_db,save_to_db"
   ]
  },
  {
   "cell_type": "code",
   "execution_count": 5,
   "metadata": {},
   "outputs": [
    {
     "name": "stdout",
     "output_type": "stream",
     "text": [
      "<database.User object at 0x000001704065B190> <database.User object at 0x000001704058D6D0> <database.User object at 0x000001703F88B850> <database.User object at 0x00000170405AAC50>\n"
     ]
    }
   ],
   "source": [
    "u1=User(name=\"alex\",email =\"alex@gmail.com\",password =\"123456\" )\n",
    "u2=User(name=\"ali\",email =\"ali@gmail.com\",password =\"675767\" )\n",
    "u3=User(name=\"lambu\",email =\"lambu@gmail.com\",password =\"167383\" )\n",
    "u4=User(name=\"sohard\",email =\"sohard@gmail.com\",password =\"897465\" )\n",
    "print(u1,u2,u3,u4)"
   ]
  },
  {
   "cell_type": "code",
   "execution_count": 6,
   "metadata": {},
   "outputs": [],
   "source": [
    "save_to_db(u1)\n",
    "save_to_db(u2)\n",
    "save_to_db(u3)\n",
    "save_to_db(u4)"
   ]
  },
  {
   "cell_type": "code",
   "execution_count": 9,
   "metadata": {},
   "outputs": [
    {
     "name": "stdout",
     "output_type": "stream",
     "text": [
      "<database.Message object at 0x00000170425C6510> <database.Message object at 0x0000017042616BD0> <database.Message object at 0x0000017042642F90> <database.Message object at 0x0000017042640D90>\n"
     ]
    }
   ],
   "source": [
    "m1=Message(user_id = \"1\",message =\"hello\" )\n",
    "m2=Message( user_id = \"2\",message =\"Hii\")\n",
    "m3=Message(user_id = \"3\",message =\"Bye\" )\n",
    "m4=Message(user_id = \"4\",message =\"Tata\" )\n",
    "print(m1,m2,m3,m4)"
   ]
  },
  {
   "cell_type": "code",
   "execution_count": 10,
   "metadata": {},
   "outputs": [],
   "source": [
    "save_to_db(m1)\n",
    "save_to_db(m2)\n",
    "save_to_db(m3)\n",
    "save_to_db(m4)"
   ]
  },
  {
   "cell_type": "code",
   "execution_count": 13,
   "metadata": {},
   "outputs": [
    {
     "name": "stdout",
     "output_type": "stream",
     "text": [
      "2\n",
      "ali\n",
      "ali@gmail.com\n",
      "675767\n",
      "2024-04-04 13:03:37.793844\n"
     ]
    },
    {
     "name": "stderr",
     "output_type": "stream",
     "text": [
      "C:\\Users\\anujs\\AppData\\Local\\Temp\\ipykernel_8812\\1511869759.py:4: LegacyAPIWarning: The Query.get() method is considered legacy as of the 1.x series of SQLAlchemy and becomes a legacy construct in 2.0. The method is now available as Session.get() (deprecated since: 2.0) (Background on SQLAlchemy 2.0 at: https://sqlalche.me/e/b8d9)\n",
      "  user = db.query(User).get(uid)\n"
     ]
    }
   ],
   "source": [
    "db = get_db()\n",
    "#get suer by id \n",
    "uid = 2\n",
    "user = db.query(User).get(uid)\n",
    "print(user.id)\n",
    "print(user.name)\n",
    "print(user.email)\n",
    "print(user.password)\n",
    "print(user.created_at)\n",
    "db.close()"
   ]
  },
  {
   "cell_type": "code",
   "execution_count": 22,
   "metadata": {},
   "outputs": [
    {
     "name": "stdout",
     "output_type": "stream",
     "text": [
      "1 alex alex@gmail.com\n",
      "2 ali ali@gmail.com\n",
      "3 lambu lambu@gmail.com\n",
      "4 sohard sohard@gmail.com\n",
      "5 alex alex@gmail.com\n",
      "6 ali ali@gmail.com\n",
      "7 lambu lambu@gmail.com\n",
      "8 sohard sohard@gmail.com\n"
     ]
    }
   ],
   "source": [
    "db = get_db()\n",
    "users = db.query(User).all()\n",
    "for user in users :\n",
    "    print (user.id,user.name,user.email)\n",
    "db.close()"
   ]
  },
  {
   "cell_type": "code",
   "execution_count": null,
   "metadata": {},
   "outputs": [],
   "source": []
  },
  {
   "cell_type": "code",
   "execution_count": null,
   "metadata": {},
   "outputs": [],
   "source": []
  }
 ],
 "metadata": {
  "kernelspec": {
   "display_name": "base",
   "language": "python",
   "name": "python3"
  },
  "language_info": {
   "codemirror_mode": {
    "name": "ipython",
    "version": 3
   },
   "file_extension": ".py",
   "mimetype": "text/x-python",
   "name": "python",
   "nbconvert_exporter": "python",
   "pygments_lexer": "ipython3",
   "version": "3.11.5"
  }
 },
 "nbformat": 4,
 "nbformat_minor": 2
}
