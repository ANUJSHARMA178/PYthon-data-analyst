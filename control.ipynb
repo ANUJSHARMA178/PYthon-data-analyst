{
 "cells": [
  {
   "cell_type": "code",
   "execution_count": 3,
   "metadata": {},
   "outputs": [
    {
     "name": "stdout",
     "output_type": "stream",
     "text": [
      "The end\n"
     ]
    }
   ],
   "source": [
    "x = int(input('Give me Number:'))\n",
    "if x >= 10:\n",
    "    print(\"Hurray!\")\n",
    "print(\"The end\")"
   ]
  },
  {
   "cell_type": "code",
   "execution_count": 5,
   "metadata": {},
   "outputs": [],
   "source": [
    "if x % 2 ==0:\n",
    "    print('even')"
   ]
  },
  {
   "cell_type": "code",
   "execution_count": 9,
   "metadata": {},
   "outputs": [
    {
     "name": "stdout",
     "output_type": "stream",
     "text": [
      "we can buy it\n"
     ]
    }
   ],
   "source": [
    "price = 1900\n",
    "if price > 2000:\n",
    "    print('Expensive')\n",
    "else:\n",
    "    print('we can buy it')"
   ]
  },
  {
   "cell_type": "code",
   "execution_count": 12,
   "metadata": {},
   "outputs": [
    {
     "name": "stdout",
     "output_type": "stream",
     "text": [
      "23/600=  3.83%\n"
     ]
    }
   ],
   "source": [
    "marks = int(input(\"Enter your marka\"))\n",
    "total = 600\n",
    "pct = marks/total*100\n",
    "print(f'{marks}/{total}= {pct: .2f}%')"
   ]
  },
  {
   "cell_type": "code",
   "execution_count": 22,
   "metadata": {},
   "outputs": [
    {
     "name": "stdout",
     "output_type": "stream",
     "text": [
      "600/600=  100.00%\n",
      "Grade: A\n"
     ]
    }
   ],
   "source": [
    "marks = int(input(\"Enter your marka\"))\n",
    "total = 600\n",
    "pct = marks/total*100\n",
    "print(f'{marks}/{total}= {pct: .2f}%')\n",
    "if pct> 90:\n",
    "    grade = 'A'\n",
    "elif pct >= 75:\n",
    "    grade = 'B'\n",
    "elif pct>= 60:\n",
    "    grade = 'C'\n",
    "elif pct>= 40:\n",
    "    grade = 'D'\n",
    "else:\n",
    "    grade = 'F'\n",
    "print(f'Grade: {grade}')"
   ]
  },
  {
   "cell_type": "code",
   "execution_count": 28,
   "metadata": {},
   "outputs": [
    {
     "name": "stdout",
     "output_type": "stream",
     "text": [
      "What is the capital of Bihar?\n"
     ]
    }
   ],
   "source": [
    "print(\"What is the capital of Bihar?\")\n",
    "ans = input(\"Your answer:\")\n",
    "match ans:\n",
    "    case \"delhi\":\n",
    "        print('Incorrect')\n",
    "    case \"patna\"|\"Patna\":\n",
    "        print(\"Correct\") \n"
   ]
  },
  {
   "cell_type": "markdown",
   "metadata": {},
   "source": [
    "loops\n",
    "- itertion based \"for\"\n",
    "- condition based \"while\""
   ]
  },
  {
   "cell_type": "code",
   "execution_count": 10,
   "metadata": {},
   "outputs": [],
   "source": [
    "movies = ['The Godfather ',\n",
    "'Inception ',\n",
    "'Schindlers List',\n",
    "'Pulp Fiction',\n",
    "'The Shawshank Redemption',\n",
    "'The Dark Knight',\n",
    "'Forrest Gump',\n",
    "'The Matrix',\n",
    "'Casablanca',\n",
    "'Titanic',\n",
    "'The Silence of the Lambs',\n",
    "'The Lord of the Rings: The Fellowship of the Ring',\n",
    "'Fight Club', \n",
    "'Jurassic Park',\n",
    "'The Breakfast Club',\n",
    "'La La Land',\n",
    "'Avatar',\n",
    "'The Grand Budapest Hotel',\n",
    "'Gladiator',\n",
    "'Spirited Away',\n",
    "'The Social Network',\n",
    "'Gone with the Wind',\n",
    "'The Princess Bride',\n",
    "'The Departed',\n",
    "'The Great Gatsby']"
   ]
  },
  {
   "cell_type": "code",
   "execution_count": 11,
   "metadata": {},
   "outputs": [
    {
     "name": "stdout",
     "output_type": "stream",
     "text": [
      "The Godfather \n",
      "Inception \n",
      "Schindlers List\n",
      "Pulp Fiction\n",
      "The Shawshank Redemption\n",
      "The Dark Knight\n",
      "Forrest Gump\n",
      "The Matrix\n",
      "Casablanca\n",
      "Titanic\n",
      "The Silence of the Lambs\n",
      "The Lord of the Rings: The Fellowship of the Ring\n",
      "Fight Club\n",
      "Jurassic Park\n",
      "The Breakfast Club\n",
      "La La Land\n",
      "Avatar\n",
      "The Grand Budapest Hotel\n",
      "Gladiator\n",
      "Spirited Away\n",
      "The Social Network\n",
      "Gone with the Wind\n",
      "The Princess Bride\n",
      "The Departed\n",
      "The Great Gatsby\n"
     ]
    }
   ],
   "source": [
    "for i in movies:\n",
    "    print (i)"
   ]
  },
  {
   "cell_type": "code",
   "execution_count": 2,
   "metadata": {},
   "outputs": [
    {
     "name": "stdout",
     "output_type": "stream",
     "text": [
      "12\n",
      "14\n",
      "15\n",
      "17\n",
      "87\n"
     ]
    }
   ],
   "source": [
    "for i in [12,14,15,17,87]:\n",
    "    print(i)"
   ]
  },
  {
   "cell_type": "code",
   "execution_count": 3,
   "metadata": {},
   "outputs": [
    {
     "name": "stdout",
     "output_type": "stream",
     "text": [
      "10\n",
      "9\n",
      "8\n",
      "7\n",
      "6\n",
      "5\n",
      "4\n",
      "3\n",
      "2\n",
      "1\n"
     ]
    }
   ],
   "source": [
    "for i in range (10,0,-1):\n",
    "    print(i)"
   ]
  },
  {
   "cell_type": "code",
   "execution_count": 12,
   "metadata": {},
   "outputs": [
    {
     "name": "stdout",
     "output_type": "stream",
     "text": [
      "Pulp Fiction\n",
      "Forrest Gump\n",
      "Fight Club\n",
      "Jurassic Park\n",
      "The Breakfast Club\n",
      "The Grand Budapest Hotel\n"
     ]
    }
   ],
   "source": [
    "for name in movies:\n",
    "    if \"u\" in name:\n",
    "       print(name)"
   ]
  },
  {
   "cell_type": "code",
   "execution_count": 14,
   "metadata": {},
   "outputs": [
    {
     "name": "stdout",
     "output_type": "stream",
     "text": [
      "93326215443944152681699238856266700490715968264381621468592963895217599993229915608941463976156518286253697920827223758251185210916864000000000000000000000000\n"
     ]
    }
   ],
   "source": [
    "n= 1000\n",
    "fact = 1\n",
    "for i in range(2,n+1):\n",
    "    fact *= i\n",
    "print(fact)\n",
    "    \n"
   ]
  },
  {
   "cell_type": "code",
   "execution_count": 1,
   "metadata": {},
   "outputs": [
    {
     "name": "stdout",
     "output_type": "stream",
     "text": [
      "invalid input\n",
      "very good\n"
     ]
    }
   ],
   "source": [
    "while True:\n",
    "   x= input('Enter your number:')\n",
    "   if x.isnumeric():\n",
    "    print('very good')\n",
    "    break\n",
    "   else:\n",
    "     print('invalid input')"
   ]
  },
  {
   "cell_type": "code",
   "execution_count": null,
   "metadata": {},
   "outputs": [],
   "source": []
  }
 ],
 "metadata": {
  "kernelspec": {
   "display_name": "base",
   "language": "python",
   "name": "python3"
  },
  "language_info": {
   "codemirror_mode": {
    "name": "ipython",
    "version": 3
   },
   "file_extension": ".py",
   "mimetype": "text/x-python",
   "name": "python",
   "nbconvert_exporter": "python",
   "pygments_lexer": "ipython3",
   "version": "3.11.5"
  }
 },
 "nbformat": 4,
 "nbformat_minor": 2
}
