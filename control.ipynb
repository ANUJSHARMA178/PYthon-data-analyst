{
 "cells": [
  {
   "cell_type": "code",
   "execution_count": 3,
   "metadata": {},
   "outputs": [
    {
     "name": "stdout",
     "output_type": "stream",
     "text": [
      "The end\n"
     ]
    }
   ],
   "source": [
    "x = int(input('Give me Number:'))\n",
    "if x >= 10:\n",
    "    print(\"Hurray!\")\n",
    "print(\"The end\")"
   ]
  },
  {
   "cell_type": "code",
   "execution_count": 5,
   "metadata": {},
   "outputs": [],
   "source": [
    "if x % 2 ==0:\n",
    "    print('even')"
   ]
  },
  {
   "cell_type": "code",
   "execution_count": 9,
   "metadata": {},
   "outputs": [
    {
     "name": "stdout",
     "output_type": "stream",
     "text": [
      "we can buy it\n"
     ]
    }
   ],
   "source": [
    "price = 1900\n",
    "if price > 2000:\n",
    "    print('Expensive')\n",
    "else:\n",
    "    print('we can buy it')"
   ]
  },
  {
   "cell_type": "code",
   "execution_count": 12,
   "metadata": {},
   "outputs": [
    {
     "name": "stdout",
     "output_type": "stream",
     "text": [
      "23/600=  3.83%\n"
     ]
    }
   ],
   "source": [
    "marks = int(input(\"Enter your marka\"))\n",
    "total = 600\n",
    "pct = marks/total*100\n",
    "print(f'{marks}/{total}= {pct: .2f}%')"
   ]
  },
  {
   "cell_type": "code",
   "execution_count": 22,
   "metadata": {},
   "outputs": [
    {
     "name": "stdout",
     "output_type": "stream",
     "text": [
      "600/600=  100.00%\n",
      "Grade: A\n"
     ]
    }
   ],
   "source": [
    "marks = int(input(\"Enter your marka\"))\n",
    "total = 600\n",
    "pct = marks/total*100\n",
    "print(f'{marks}/{total}= {pct: .2f}%')\n",
    "if pct> 90:\n",
    "    grade = 'A'\n",
    "elif pct >= 75:\n",
    "    grade = 'B'\n",
    "elif pct>= 60:\n",
    "    grade = 'C'\n",
    "elif pct>= 40:\n",
    "    grade = 'D'\n",
    "else:\n",
    "    grade = 'F'\n",
    "print(f'Grade: {grade}')"
   ]
  },
  {
   "cell_type": "code",
   "execution_count": 28,
   "metadata": {},
   "outputs": [
    {
     "name": "stdout",
     "output_type": "stream",
     "text": [
      "What is the capital of Bihar?\n"
     ]
    }
   ],
   "source": [
    "print(\"What is the capital of Bihar?\")\n",
    "ans = input(\"Your answer:\")\n",
    "match ans:\n",
    "    case \"delhi\":\n",
    "        print('Incorrect')\n",
    "    case \"patna\"|\"Patna\":\n",
    "        print(\"Correct\") \n"
   ]
  },
  {
   "cell_type": "markdown",
   "metadata": {},
   "source": [
    "loops\n",
    "- itertion based \"for\"\n",
    "- condition based \"while\""
   ]
  }
 ],
 "metadata": {
  "kernelspec": {
   "display_name": "base",
   "language": "python",
   "name": "python3"
  },
  "language_info": {
   "codemirror_mode": {
    "name": "ipython",
    "version": 3
   },
   "file_extension": ".py",
   "mimetype": "text/x-python",
   "name": "python",
   "nbconvert_exporter": "python",
   "pygments_lexer": "ipython3",
   "version": "3.11.5"
  }
 },
 "nbformat": 4,
 "nbformat_minor": 2
}
